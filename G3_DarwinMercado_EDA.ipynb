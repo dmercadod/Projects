{
 "cells": [
  {
   "cell_type": "markdown",
   "metadata": {
    "id": "4050L2v05AUM"
   },
   "source": [
    "<div class=\"text-cell-section-header\">\n",
    "<h1 style=\"text-align: center;\"><strong>PROGRAMACI&Oacute;N PARA EL AN&Aacute;LISIS DE DATOS</strong></h1>\n",
    "</div>\n",
    "<h1 style=\"text-align: center;\"><strong>Unidad 3 - Exploración y Visualización de Datos</strong></h1>\n",
    "<h1 style=\"text-align: center;\"><strong>PRESENTADO POR: DARWIN MERCADO</strong></h1>\n",
    "<h1 style=\"text-align: center;\"><strong>GRUPO 203008069_3</strong></h1>\n",
    "<h1 style=\"text-align: center;\"><strong>PRESENTADO A: FELIPE ALEXANDER PIPICANO GUZMAN</strong></h1>\n",
    "<h1 style=\"text-align: center;\"><strong>Universidad Nacional Abierta y a Distancia &ndash; UNAD</strong></h1>\n",
    "<h1 style=\"text-align: center;\"><strong>22 de noviembre de 2023</strong></h1>"
   ]
  },
  {
   "cell_type": "markdown",
   "metadata": {},
   "source": [
    "# Introducción\n",
    "\n",
    "En el siguiente trabajo se va a estudiar el rendimiento academico de manera general de los estudiantes que presentaron las pruebas saber pro en el año 2022, las cuales son las conocidas pruebas ECAES que son un requisito para poder obtener el grado como profesional en las diferentes Universidades o instituciones universitarias en el pais de Colombia."
   ]
  },
  {
   "cell_type": "markdown",
   "metadata": {},
   "source": [
    "**LINK A ONE DRIVE DE LA BASE DE DATOS https://drive.google.com/file/d/1jpN0CRAgVj6nlSJHvOgkDgLb_BtHyp8C/view?usp=sharing**"
   ]
  },
  {
   "cell_type": "markdown",
   "metadata": {},
   "source": [
    "# Objetivo General\n",
    "\n",
    "- En el siguiente trabajo se va a estudiar el rendimiento academico de los estudiantes que presentaron las pruebas saber pro en el año 2022, las cuales son las conocidas pruebas ECAES que son un requisito para poder obtener el grado como profesional en las diferentes Universidades o instituciones universitarias en el pais de Colombia.\n",
    "\n",
    "## Objetivos especificos\n",
    "\n",
    "- Se cargará la base de datos del ICFES y se va a utilizar python para la limpieza de datos faltantes o con errores de tipografía.\n",
    "\n",
    "- Se van a definir variables categoricas y númericas que serán utilizadas, con las cuales se va a definir los datos especificos con los cuales se va a trabajar, dado que la base de datos contiene 109 columnas de las cuales solo se utilizarán las más especificas.\n",
    "\n",
    "- Se desarrollaran sobre las variables definidas las metricas descriptivas.\n",
    "\n",
    "- Se desarrollará una matriz de correlación para las variables númericas para poder visualizar cuales tienen una mayor correlación entre sí.\n",
    "\n",
    "- Se categorizará una variable categórica para definir un rango especifico con el cuál sea más facil para trabajar.\n",
    "\n",
    "- Desarrollar gráficos cientificos para análizar a profundidad nuestros datos y comparar los resultados."
   ]
  },
  {
   "cell_type": "code",
   "execution_count": 8,
   "metadata": {},
   "outputs": [],
   "source": [
    "import pandas as pd\n",
    "import numpy as np\n",
    "import seaborn as sns\n",
    "import matplotlib.pyplot as plt"
   ]
  },
  {
   "cell_type": "code",
   "execution_count": 9,
   "metadata": {
    "id": "6g1SIeo65D8_"
   },
   "outputs": [],
   "source": [
    "icfes = pd.read_csv(\"DATA_ICFES_SABERPROPROFESIONAL_2022-2.TXT\", sep= \"¬\",engine='python')"
   ]
  },
  {
   "cell_type": "code",
   "execution_count": 10,
   "metadata": {
    "colab": {
     "base_uri": "https://localhost:8080/",
     "height": 256
    },
    "id": "FZiw_PMB5SCI",
    "outputId": "8c57e4a1-b7fc-455f-8763-9d20b9fedcd4",
    "scrolled": true
   },
   "outputs": [
    {
     "data": {
      "text/html": [
       "<div>\n",
       "<style scoped>\n",
       "    .dataframe tbody tr th:only-of-type {\n",
       "        vertical-align: middle;\n",
       "    }\n",
       "\n",
       "    .dataframe tbody tr th {\n",
       "        vertical-align: top;\n",
       "    }\n",
       "\n",
       "    .dataframe thead th {\n",
       "        text-align: right;\n",
       "    }\n",
       "</style>\n",
       "<table border=\"1\" class=\"dataframe\">\n",
       "  <thead>\n",
       "    <tr style=\"text-align: right;\">\n",
       "      <th></th>\n",
       "      <th>ESTU_TIPODOCUMENTO</th>\n",
       "      <th>ESTU_NACIONALIDAD</th>\n",
       "      <th>ESTU_GENERO</th>\n",
       "      <th>ESTU_FECHANACIMIENTO</th>\n",
       "      <th>ESTU_EXTERIOR</th>\n",
       "      <th>PERIODO</th>\n",
       "      <th>ESTU_CONSECUTIVO</th>\n",
       "      <th>ESTU_ESTUDIANTE</th>\n",
       "      <th>ESTU_PAIS_RESIDE</th>\n",
       "      <th>ESTU_TIENEETNIA</th>\n",
       "      <th>...</th>\n",
       "      <th>MOD_COMUNI_ESCRITA_DESEM</th>\n",
       "      <th>MOD_COMUNI_ESCRITA_PNAL</th>\n",
       "      <th>MOD_COMUNI_ESCRITA_PNBC</th>\n",
       "      <th>PUNT_GLOBAL</th>\n",
       "      <th>PERCENTIL_GLOBAL</th>\n",
       "      <th>PERCENTIL_NBC</th>\n",
       "      <th>ESTU_INSE_INDIVIDUAL</th>\n",
       "      <th>ESTU_NSE_INDIVIDUAL</th>\n",
       "      <th>ESTU_NSE_IES</th>\n",
       "      <th>ESTU_ESTADOINVESTIGACION</th>\n",
       "    </tr>\n",
       "  </thead>\n",
       "  <tbody>\n",
       "    <tr>\n",
       "      <th>0</th>\n",
       "      <td>CE</td>\n",
       "      <td>ECUADOR</td>\n",
       "      <td>M</td>\n",
       "      <td>24/12/1998</td>\n",
       "      <td>NO</td>\n",
       "      <td>20225</td>\n",
       "      <td>EK202250120952</td>\n",
       "      <td>ESTUDIANTE</td>\n",
       "      <td>ECUADOR</td>\n",
       "      <td>No</td>\n",
       "      <td>...</td>\n",
       "      <td>3.0</td>\n",
       "      <td>81</td>\n",
       "      <td>82</td>\n",
       "      <td>174</td>\n",
       "      <td>86</td>\n",
       "      <td>86</td>\n",
       "      <td>52.304299</td>\n",
       "      <td>2.0</td>\n",
       "      <td>3</td>\n",
       "      <td>PUBLICAR</td>\n",
       "    </tr>\n",
       "    <tr>\n",
       "      <th>1</th>\n",
       "      <td>CC</td>\n",
       "      <td>COLOMBIA</td>\n",
       "      <td>F</td>\n",
       "      <td>11/09/2001</td>\n",
       "      <td>NO</td>\n",
       "      <td>20225</td>\n",
       "      <td>EK202250088428</td>\n",
       "      <td>ESTUDIANTE</td>\n",
       "      <td>COLOMBIA</td>\n",
       "      <td>No</td>\n",
       "      <td>...</td>\n",
       "      <td>3.0</td>\n",
       "      <td>74</td>\n",
       "      <td>76</td>\n",
       "      <td>152</td>\n",
       "      <td>59</td>\n",
       "      <td>76</td>\n",
       "      <td>57.241157</td>\n",
       "      <td>3.0</td>\n",
       "      <td>2</td>\n",
       "      <td>PUBLICAR</td>\n",
       "    </tr>\n",
       "    <tr>\n",
       "      <th>2</th>\n",
       "      <td>CC</td>\n",
       "      <td>COLOMBIA</td>\n",
       "      <td>M</td>\n",
       "      <td>10/09/2001</td>\n",
       "      <td>NO</td>\n",
       "      <td>20225</td>\n",
       "      <td>EK202250166006</td>\n",
       "      <td>ESTUDIANTE</td>\n",
       "      <td>COLOMBIA</td>\n",
       "      <td>No</td>\n",
       "      <td>...</td>\n",
       "      <td>3.0</td>\n",
       "      <td>76</td>\n",
       "      <td>82</td>\n",
       "      <td>151</td>\n",
       "      <td>59</td>\n",
       "      <td>72</td>\n",
       "      <td>48.394707</td>\n",
       "      <td>2.0</td>\n",
       "      <td>2</td>\n",
       "      <td>PUBLICAR</td>\n",
       "    </tr>\n",
       "    <tr>\n",
       "      <th>3</th>\n",
       "      <td>CC</td>\n",
       "      <td>COLOMBIA</td>\n",
       "      <td>F</td>\n",
       "      <td>16/03/1993</td>\n",
       "      <td>NO</td>\n",
       "      <td>20225</td>\n",
       "      <td>EK202250101378</td>\n",
       "      <td>ESTUDIANTE</td>\n",
       "      <td>COLOMBIA</td>\n",
       "      <td>No</td>\n",
       "      <td>...</td>\n",
       "      <td>2.0</td>\n",
       "      <td>28</td>\n",
       "      <td>29</td>\n",
       "      <td>122</td>\n",
       "      <td>19</td>\n",
       "      <td>31</td>\n",
       "      <td>34.324772</td>\n",
       "      <td>1.0</td>\n",
       "      <td>4</td>\n",
       "      <td>PUBLICAR</td>\n",
       "    </tr>\n",
       "    <tr>\n",
       "      <th>4</th>\n",
       "      <td>CC</td>\n",
       "      <td>COLOMBIA</td>\n",
       "      <td>M</td>\n",
       "      <td>26/06/1996</td>\n",
       "      <td>NO</td>\n",
       "      <td>20225</td>\n",
       "      <td>EK202250179845</td>\n",
       "      <td>ESTUDIANTE</td>\n",
       "      <td>COLOMBIA</td>\n",
       "      <td>No</td>\n",
       "      <td>...</td>\n",
       "      <td>1.0</td>\n",
       "      <td>14</td>\n",
       "      <td>10</td>\n",
       "      <td>134</td>\n",
       "      <td>34</td>\n",
       "      <td>13</td>\n",
       "      <td>42.049505</td>\n",
       "      <td>1.0</td>\n",
       "      <td>2</td>\n",
       "      <td>PUBLICAR</td>\n",
       "    </tr>\n",
       "  </tbody>\n",
       "</table>\n",
       "<p>5 rows × 109 columns</p>\n",
       "</div>"
      ],
      "text/plain": [
       "  ESTU_TIPODOCUMENTO ESTU_NACIONALIDAD ESTU_GENERO ESTU_FECHANACIMIENTO  \\\n",
       "0                 CE           ECUADOR           M           24/12/1998   \n",
       "1                 CC          COLOMBIA           F           11/09/2001   \n",
       "2                 CC          COLOMBIA           M           10/09/2001   \n",
       "3                 CC          COLOMBIA           F           16/03/1993   \n",
       "4                 CC          COLOMBIA           M           26/06/1996   \n",
       "\n",
       "  ESTU_EXTERIOR  PERIODO ESTU_CONSECUTIVO ESTU_ESTUDIANTE ESTU_PAIS_RESIDE  \\\n",
       "0            NO    20225   EK202250120952      ESTUDIANTE          ECUADOR   \n",
       "1            NO    20225   EK202250088428      ESTUDIANTE         COLOMBIA   \n",
       "2            NO    20225   EK202250166006      ESTUDIANTE         COLOMBIA   \n",
       "3            NO    20225   EK202250101378      ESTUDIANTE         COLOMBIA   \n",
       "4            NO    20225   EK202250179845      ESTUDIANTE         COLOMBIA   \n",
       "\n",
       "  ESTU_TIENEETNIA  ... MOD_COMUNI_ESCRITA_DESEM  MOD_COMUNI_ESCRITA_PNAL  \\\n",
       "0              No  ...                      3.0                       81   \n",
       "1              No  ...                      3.0                       74   \n",
       "2              No  ...                      3.0                       76   \n",
       "3              No  ...                      2.0                       28   \n",
       "4              No  ...                      1.0                       14   \n",
       "\n",
       "  MOD_COMUNI_ESCRITA_PNBC  PUNT_GLOBAL PERCENTIL_GLOBAL PERCENTIL_NBC  \\\n",
       "0                      82          174               86            86   \n",
       "1                      76          152               59            76   \n",
       "2                      82          151               59            72   \n",
       "3                      29          122               19            31   \n",
       "4                      10          134               34            13   \n",
       "\n",
       "  ESTU_INSE_INDIVIDUAL  ESTU_NSE_INDIVIDUAL  ESTU_NSE_IES  \\\n",
       "0            52.304299                  2.0             3   \n",
       "1            57.241157                  3.0             2   \n",
       "2            48.394707                  2.0             2   \n",
       "3            34.324772                  1.0             4   \n",
       "4            42.049505                  1.0             2   \n",
       "\n",
       "  ESTU_ESTADOINVESTIGACION  \n",
       "0                 PUBLICAR  \n",
       "1                 PUBLICAR  \n",
       "2                 PUBLICAR  \n",
       "3                 PUBLICAR  \n",
       "4                 PUBLICAR  \n",
       "\n",
       "[5 rows x 109 columns]"
      ]
     },
     "execution_count": 10,
     "metadata": {},
     "output_type": "execute_result"
    }
   ],
   "source": [
    "icfes.head()"
   ]
  },
  {
   "cell_type": "markdown",
   "metadata": {},
   "source": [
    "***Se definirán las variables categoricas que se utilizarán del dataset inicial, que son las de interés para el desarrollo del analisis exploratorio de estos datos***"
   ]
  },
  {
   "cell_type": "code",
   "execution_count": 11,
   "metadata": {
    "id": "ogVFpxFi8lQW"
   },
   "outputs": [],
   "source": [
    "Cat_type = icfes[[\"ESTU_EXTERIOR\",\"ESTU_MCPIO_RESIDE\",\"ESTU_AREARESIDE\",\"ESTU_SEMESTRECURSA\",\"ESTU_COMOCAPACITOEXAMENSB11\",\"FAMI_TIENEINTERNET\",\"FAMI_TIENECOMPUTADOR\",\"ESTU_PRGM_ACADEMICO\",\"FAMI_ESTRATOVIVIENDA\"]]"
   ]
  },
  {
   "cell_type": "code",
   "execution_count": 12,
   "metadata": {
    "colab": {
     "base_uri": "https://localhost:8080/"
    },
    "id": "X5Q1m0JR8Ea2",
    "outputId": "dae895b4-a378-464b-faba-1dd8e1b983a7"
   },
   "outputs": [
    {
     "name": "stdout",
     "output_type": "stream",
     "text": [
      "<class 'pandas.core.frame.DataFrame'>\n",
      "RangeIndex: 127342 entries, 0 to 127341\n",
      "Data columns (total 9 columns):\n",
      " #   Column                       Non-Null Count   Dtype \n",
      "---  ------                       --------------   ----- \n",
      " 0   ESTU_EXTERIOR                127342 non-null  object\n",
      " 1   ESTU_MCPIO_RESIDE            127332 non-null  object\n",
      " 2   ESTU_AREARESIDE              125284 non-null  object\n",
      " 3   ESTU_SEMESTRECURSA           125148 non-null  object\n",
      " 4   ESTU_COMOCAPACITOEXAMENSB11  125273 non-null  object\n",
      " 5   FAMI_TIENEINTERNET           121645 non-null  object\n",
      " 6   FAMI_TIENECOMPUTADOR         121179 non-null  object\n",
      " 7   ESTU_PRGM_ACADEMICO          127342 non-null  object\n",
      " 8   FAMI_ESTRATOVIVIENDA         121811 non-null  object\n",
      "dtypes: object(9)\n",
      "memory usage: 8.7+ MB\n"
     ]
    }
   ],
   "source": [
    "# Se verifica la información del dataset categorico para definir que datos se podrían limpiar\n",
    "Cat_type.info()"
   ]
  },
  {
   "cell_type": "markdown",
   "metadata": {
    "id": "ntU_-_3P611c"
   },
   "source": [
    "***Como se observa se tiene que las variables mas importantes como lo son el programa academico, si es estudiante en el exterior y el municio donde reside no tienen datos nulos o tienen muy pocos datos nulos, por lo tanto se verificará inicialmente***"
   ]
  },
  {
   "cell_type": "code",
   "execution_count": 13,
   "metadata": {
    "colab": {
     "base_uri": "https://localhost:8080/"
    },
    "id": "Eu5NiwZe7RL2",
    "outputId": "e7defc00-3aed-4647-ca12-2871d78c4835"
   },
   "outputs": [
    {
     "data": {
      "text/plain": [
       "array(['Si', 'No', nan], dtype=object)"
      ]
     },
     "execution_count": 13,
     "metadata": {},
     "output_type": "execute_result"
    }
   ],
   "source": [
    "Cat_type[\"FAMI_TIENEINTERNET\"].unique()"
   ]
  },
  {
   "cell_type": "code",
   "execution_count": 14,
   "metadata": {
    "colab": {
     "base_uri": "https://localhost:8080/"
    },
    "id": "_YwkmGa77V3j",
    "outputId": "26233fc7-18fb-453f-c8a5-7e7e0be8f4e3"
   },
   "outputs": [
    {
     "data": {
      "text/plain": [
       "array(['Estrato 3', 'Estrato 1', 'Estrato 2', nan, 'Estrato 5',\n",
       "       'Estrato 6', 'Estrato 4', 'Sin Estrato'], dtype=object)"
      ]
     },
     "execution_count": 14,
     "metadata": {},
     "output_type": "execute_result"
    }
   ],
   "source": [
    "Cat_type[\"FAMI_ESTRATOVIVIENDA\"].unique()"
   ]
  },
  {
   "cell_type": "code",
   "execution_count": 15,
   "metadata": {
    "colab": {
     "base_uri": "https://localhost:8080/"
    },
    "id": "9ysurDj07g0O",
    "outputId": "09f43692-fb02-4134-b846-350d5a53b7fb"
   },
   "outputs": [
    {
     "data": {
      "text/plain": [
       "array(['Si', 'No', nan], dtype=object)"
      ]
     },
     "execution_count": 15,
     "metadata": {},
     "output_type": "execute_result"
    }
   ],
   "source": [
    " Cat_type[\"FAMI_TIENECOMPUTADOR\"].unique()"
   ]
  },
  {
   "cell_type": "code",
   "execution_count": 16,
   "metadata": {
    "colab": {
     "base_uri": "https://localhost:8080/"
    },
    "id": "XjiQwsXC7l2E",
    "outputId": "6951d4a5-543e-4225-e63e-a7253ed5dfb0"
   },
   "outputs": [
    {
     "data": {
      "text/plain": [
       "array(['Cabecera Municipal', 'Area Rural', nan], dtype=object)"
      ]
     },
     "execution_count": 16,
     "metadata": {},
     "output_type": "execute_result"
    }
   ],
   "source": [
    "Cat_type[\"ESTU_AREARESIDE\"].unique()"
   ]
  },
  {
   "cell_type": "code",
   "execution_count": 17,
   "metadata": {
    "id": "GBsC3Kx25cUc"
   },
   "outputs": [],
   "source": [
    "Cat_type = Cat_type.dropna()"
   ]
  },
  {
   "cell_type": "markdown",
   "metadata": {},
   "source": [
    "***Se eliminaron los datos nulos dado que al estar trabajando en un dataset con datos únicos por persona no es coherente utilizar otros métodos***"
   ]
  },
  {
   "cell_type": "code",
   "execution_count": 18,
   "metadata": {
    "colab": {
     "base_uri": "https://localhost:8080/",
     "height": 490
    },
    "id": "KHwysOzgMIov",
    "outputId": "53cbfae5-041a-40e9-e095-9f2315a2c51e"
   },
   "outputs": [
    {
     "name": "stdout",
     "output_type": "stream",
     "text": [
      "<class 'pandas.core.frame.DataFrame'>\n",
      "Index: 118948 entries, 0 to 127341\n",
      "Data columns (total 9 columns):\n",
      " #   Column                       Non-Null Count   Dtype \n",
      "---  ------                       --------------   ----- \n",
      " 0   ESTU_EXTERIOR                118948 non-null  object\n",
      " 1   ESTU_MCPIO_RESIDE            118948 non-null  object\n",
      " 2   ESTU_AREARESIDE              118948 non-null  object\n",
      " 3   ESTU_SEMESTRECURSA           118948 non-null  object\n",
      " 4   ESTU_COMOCAPACITOEXAMENSB11  118948 non-null  object\n",
      " 5   FAMI_TIENEINTERNET           118948 non-null  object\n",
      " 6   FAMI_TIENECOMPUTADOR         118948 non-null  object\n",
      " 7   ESTU_PRGM_ACADEMICO          118948 non-null  object\n",
      " 8   FAMI_ESTRATOVIVIENDA         118948 non-null  object\n",
      "dtypes: object(9)\n",
      "memory usage: 9.1+ MB\n"
     ]
    }
   ],
   "source": [
    "Cat_type.info()"
   ]
  },
  {
   "cell_type": "code",
   "execution_count": 19,
   "metadata": {},
   "outputs": [
    {
     "data": {
      "text/html": [
       "<div>\n",
       "<style scoped>\n",
       "    .dataframe tbody tr th:only-of-type {\n",
       "        vertical-align: middle;\n",
       "    }\n",
       "\n",
       "    .dataframe tbody tr th {\n",
       "        vertical-align: top;\n",
       "    }\n",
       "\n",
       "    .dataframe thead th {\n",
       "        text-align: right;\n",
       "    }\n",
       "</style>\n",
       "<table border=\"1\" class=\"dataframe\">\n",
       "  <thead>\n",
       "    <tr style=\"text-align: right;\">\n",
       "      <th></th>\n",
       "      <th>ESTU_EXTERIOR</th>\n",
       "      <th>ESTU_MCPIO_RESIDE</th>\n",
       "      <th>ESTU_AREARESIDE</th>\n",
       "      <th>ESTU_SEMESTRECURSA</th>\n",
       "      <th>ESTU_COMOCAPACITOEXAMENSB11</th>\n",
       "      <th>FAMI_TIENEINTERNET</th>\n",
       "      <th>FAMI_TIENECOMPUTADOR</th>\n",
       "      <th>ESTU_PRGM_ACADEMICO</th>\n",
       "      <th>FAMI_ESTRATOVIVIENDA</th>\n",
       "    </tr>\n",
       "  </thead>\n",
       "  <tbody>\n",
       "    <tr>\n",
       "      <th>count</th>\n",
       "      <td>118948</td>\n",
       "      <td>118948</td>\n",
       "      <td>118948</td>\n",
       "      <td>118948</td>\n",
       "      <td>118948</td>\n",
       "      <td>118948</td>\n",
       "      <td>118948</td>\n",
       "      <td>118948</td>\n",
       "      <td>118948</td>\n",
       "    </tr>\n",
       "    <tr>\n",
       "      <th>unique</th>\n",
       "      <td>1</td>\n",
       "      <td>977</td>\n",
       "      <td>2</td>\n",
       "      <td>12</td>\n",
       "      <td>3</td>\n",
       "      <td>2</td>\n",
       "      <td>2</td>\n",
       "      <td>837</td>\n",
       "      <td>7</td>\n",
       "    </tr>\n",
       "    <tr>\n",
       "      <th>top</th>\n",
       "      <td>NO</td>\n",
       "      <td>BOGOTÁ D.C.</td>\n",
       "      <td>Cabecera Municipal</td>\n",
       "      <td>09</td>\n",
       "      <td>Repasó por cuenta propia</td>\n",
       "      <td>Si</td>\n",
       "      <td>Si</td>\n",
       "      <td>DERECHO</td>\n",
       "      <td>Estrato 2</td>\n",
       "    </tr>\n",
       "    <tr>\n",
       "      <th>freq</th>\n",
       "      <td>118948</td>\n",
       "      <td>30106</td>\n",
       "      <td>105153</td>\n",
       "      <td>39500</td>\n",
       "      <td>81170</td>\n",
       "      <td>105059</td>\n",
       "      <td>104434</td>\n",
       "      <td>7485</td>\n",
       "      <td>41071</td>\n",
       "    </tr>\n",
       "  </tbody>\n",
       "</table>\n",
       "</div>"
      ],
      "text/plain": [
       "       ESTU_EXTERIOR ESTU_MCPIO_RESIDE     ESTU_AREARESIDE ESTU_SEMESTRECURSA  \\\n",
       "count         118948            118948              118948             118948   \n",
       "unique             1               977                   2                 12   \n",
       "top               NO       BOGOTÁ D.C.  Cabecera Municipal                 09   \n",
       "freq          118948             30106              105153              39500   \n",
       "\n",
       "       ESTU_COMOCAPACITOEXAMENSB11 FAMI_TIENEINTERNET FAMI_TIENECOMPUTADOR  \\\n",
       "count                       118948             118948               118948   \n",
       "unique                           3                  2                    2   \n",
       "top       Repasó por cuenta propia                 Si                   Si   \n",
       "freq                         81170             105059               104434   \n",
       "\n",
       "       ESTU_PRGM_ACADEMICO FAMI_ESTRATOVIVIENDA  \n",
       "count               118948               118948  \n",
       "unique                 837                    7  \n",
       "top                DERECHO            Estrato 2  \n",
       "freq                  7485                41071  "
      ]
     },
     "execution_count": 19,
     "metadata": {},
     "output_type": "execute_result"
    }
   ],
   "source": [
    "Cat_type.describe()"
   ]
  },
  {
   "cell_type": "markdown",
   "metadata": {
    "id": "HBMTYLqNUPTl"
   },
   "source": [
    "***En esta tabla de métricas obtenidas para las variables cualitativas, podemos observar temas muy valioso, como lo es que la mayoría de estudiantes no son extranjeros, adicional a esto el municipio que mayor participación tuvo fue BOGOTA en el cual participaron 30106 estudiantes casí un 25% del total, adicional a esto vemos que la mayoría de estudiantes son de cabecera municipal osea que viven cerca de los municipios y no aledaños, la mayoría de los participantes están en 9no semestre de la universidad, adicional se puede ver que más del 60% de los estudiantes repasaron por cuenta propia, que es una información valiosa dado que hoy en día se pueden encontrar variedad de ofertas para hacer cursos PreIcfes, luego vamos a una de las variables más importantes y es que haya acceso al internet, casí el 90% tienen acceso a este apoyo, pero los otros 10% si se ven afectados, dado que para tener acceso a las herramientas de estudio deben de ir a bibliotecas cercanas o buscar información directamente en las instituciones. La mayoría tienen computador, pero es una variable no tan signficativa dado que hoy en día la mayoría de Universidades tienen accesos a este tipo de equipamentos de manera gratuita. También se tiene que la mayoría de estudiantes estudian la carrera de DERECHO casualmente, pero si miramos cuantas carreras profesionales hay en curso son 8236, lo que signfica que ese dato no tiene una relevancia tan significativa dado que son muchas carreras presentes. Por último se encontró que la mayoría de estudiantes son de estrato 2, lo cual se identifica como personas con recursos medios y que tienen ingresos básicos a su hogar.***"
   ]
  },
  {
   "cell_type": "markdown",
   "metadata": {},
   "source": [
    "***Se definirán las variables númericas de interés para trabajar en nuestro analisis exploratorio***"
   ]
  },
  {
   "cell_type": "code",
   "execution_count": 13,
   "metadata": {
    "id": "ps7YB63eMTRC"
   },
   "outputs": [],
   "source": [
    "num_type = icfes[[\"MOD_RAZONA_CUANTITAT_PUNT\",\"MOD_LECTURA_CRITICA_PUNT\",\"MOD_COMPETEN_CIUDADA_PUNT\",\"MOD_INGLES_PUNT\",\"MOD_COMUNI_ESCRITA_PUNT\",\"PUNT_GLOBAL\",\"PERCENTIL_GLOBAL\",\"PERCENTIL_NBC\"]]"
   ]
  },
  {
   "cell_type": "code",
   "execution_count": 14,
   "metadata": {
    "colab": {
     "base_uri": "https://localhost:8080/"
    },
    "id": "-zOS4KLL8i08",
    "outputId": "693d6d60-45fc-4dd6-9110-027d25a23f22"
   },
   "outputs": [
    {
     "name": "stdout",
     "output_type": "stream",
     "text": [
      "<class 'pandas.core.frame.DataFrame'>\n",
      "RangeIndex: 127342 entries, 0 to 127341\n",
      "Data columns (total 8 columns):\n",
      " #   Column                     Non-Null Count   Dtype\n",
      "---  ------                     --------------   -----\n",
      " 0   MOD_RAZONA_CUANTITAT_PUNT  127342 non-null  int64\n",
      " 1   MOD_LECTURA_CRITICA_PUNT   127342 non-null  int64\n",
      " 2   MOD_COMPETEN_CIUDADA_PUNT  127342 non-null  int64\n",
      " 3   MOD_INGLES_PUNT            127342 non-null  int64\n",
      " 4   MOD_COMUNI_ESCRITA_PUNT    127342 non-null  int64\n",
      " 5   PUNT_GLOBAL                127342 non-null  int64\n",
      " 6   PERCENTIL_GLOBAL           127342 non-null  int64\n",
      " 7   PERCENTIL_NBC              127342 non-null  int64\n",
      "dtypes: int64(8)\n",
      "memory usage: 7.8 MB\n"
     ]
    }
   ],
   "source": [
    "num_type.info()"
   ]
  },
  {
   "cell_type": "markdown",
   "metadata": {},
   "source": [
    "***Se verificará con la variable .describe() los datos estadisticos generales de todas las variables númericas, con esto poder tener una idea del comportamiento de los datos***"
   ]
  },
  {
   "cell_type": "code",
   "execution_count": 15,
   "metadata": {
    "colab": {
     "base_uri": "https://localhost:8080/",
     "height": 320
    },
    "id": "HpSyJLTRJhnu",
    "outputId": "51f897e9-071a-4ea0-8dbb-76bd90ffd0c8"
   },
   "outputs": [
    {
     "data": {
      "text/html": [
       "<div>\n",
       "<style scoped>\n",
       "    .dataframe tbody tr th:only-of-type {\n",
       "        vertical-align: middle;\n",
       "    }\n",
       "\n",
       "    .dataframe tbody tr th {\n",
       "        vertical-align: top;\n",
       "    }\n",
       "\n",
       "    .dataframe thead th {\n",
       "        text-align: right;\n",
       "    }\n",
       "</style>\n",
       "<table border=\"1\" class=\"dataframe\">\n",
       "  <thead>\n",
       "    <tr style=\"text-align: right;\">\n",
       "      <th></th>\n",
       "      <th>MOD_RAZONA_CUANTITAT_PUNT</th>\n",
       "      <th>MOD_LECTURA_CRITICA_PUNT</th>\n",
       "      <th>MOD_COMPETEN_CIUDADA_PUNT</th>\n",
       "      <th>MOD_INGLES_PUNT</th>\n",
       "      <th>MOD_COMUNI_ESCRITA_PUNT</th>\n",
       "      <th>PUNT_GLOBAL</th>\n",
       "      <th>PERCENTIL_GLOBAL</th>\n",
       "      <th>PERCENTIL_NBC</th>\n",
       "    </tr>\n",
       "  </thead>\n",
       "  <tbody>\n",
       "    <tr>\n",
       "      <th>count</th>\n",
       "      <td>127342.000000</td>\n",
       "      <td>127342.000000</td>\n",
       "      <td>127342.000000</td>\n",
       "      <td>127342.000000</td>\n",
       "      <td>127342.000000</td>\n",
       "      <td>127342.000000</td>\n",
       "      <td>127342.000000</td>\n",
       "      <td>127342.000000</td>\n",
       "    </tr>\n",
       "    <tr>\n",
       "      <th>mean</th>\n",
       "      <td>145.980431</td>\n",
       "      <td>151.395887</td>\n",
       "      <td>143.038228</td>\n",
       "      <td>156.661557</td>\n",
       "      <td>131.881744</td>\n",
       "      <td>145.791695</td>\n",
       "      <td>50.391780</td>\n",
       "      <td>50.328423</td>\n",
       "    </tr>\n",
       "    <tr>\n",
       "      <th>std</th>\n",
       "      <td>32.979071</td>\n",
       "      <td>31.707712</td>\n",
       "      <td>34.970227</td>\n",
       "      <td>35.824786</td>\n",
       "      <td>49.559399</td>\n",
       "      <td>27.001916</td>\n",
       "      <td>28.868851</td>\n",
       "      <td>28.881283</td>\n",
       "    </tr>\n",
       "    <tr>\n",
       "      <th>min</th>\n",
       "      <td>0.000000</td>\n",
       "      <td>0.000000</td>\n",
       "      <td>0.000000</td>\n",
       "      <td>0.000000</td>\n",
       "      <td>0.000000</td>\n",
       "      <td>0.000000</td>\n",
       "      <td>1.000000</td>\n",
       "      <td>1.000000</td>\n",
       "    </tr>\n",
       "    <tr>\n",
       "      <th>25%</th>\n",
       "      <td>122.000000</td>\n",
       "      <td>129.000000</td>\n",
       "      <td>119.000000</td>\n",
       "      <td>135.000000</td>\n",
       "      <td>119.000000</td>\n",
       "      <td>128.000000</td>\n",
       "      <td>25.000000</td>\n",
       "      <td>25.000000</td>\n",
       "    </tr>\n",
       "    <tr>\n",
       "      <th>50%</th>\n",
       "      <td>146.000000</td>\n",
       "      <td>152.000000</td>\n",
       "      <td>143.000000</td>\n",
       "      <td>156.000000</td>\n",
       "      <td>137.000000</td>\n",
       "      <td>145.000000</td>\n",
       "      <td>50.000000</td>\n",
       "      <td>50.000000</td>\n",
       "    </tr>\n",
       "    <tr>\n",
       "      <th>75%</th>\n",
       "      <td>169.000000</td>\n",
       "      <td>174.000000</td>\n",
       "      <td>168.000000</td>\n",
       "      <td>178.000000</td>\n",
       "      <td>162.000000</td>\n",
       "      <td>164.000000</td>\n",
       "      <td>75.000000</td>\n",
       "      <td>75.000000</td>\n",
       "    </tr>\n",
       "    <tr>\n",
       "      <th>max</th>\n",
       "      <td>300.000000</td>\n",
       "      <td>300.000000</td>\n",
       "      <td>300.000000</td>\n",
       "      <td>300.000000</td>\n",
       "      <td>300.000000</td>\n",
       "      <td>278.000000</td>\n",
       "      <td>100.000000</td>\n",
       "      <td>100.000000</td>\n",
       "    </tr>\n",
       "  </tbody>\n",
       "</table>\n",
       "</div>"
      ],
      "text/plain": [
       "       MOD_RAZONA_CUANTITAT_PUNT  MOD_LECTURA_CRITICA_PUNT  \\\n",
       "count              127342.000000             127342.000000   \n",
       "mean                  145.980431                151.395887   \n",
       "std                    32.979071                 31.707712   \n",
       "min                     0.000000                  0.000000   \n",
       "25%                   122.000000                129.000000   \n",
       "50%                   146.000000                152.000000   \n",
       "75%                   169.000000                174.000000   \n",
       "max                   300.000000                300.000000   \n",
       "\n",
       "       MOD_COMPETEN_CIUDADA_PUNT  MOD_INGLES_PUNT  MOD_COMUNI_ESCRITA_PUNT  \\\n",
       "count              127342.000000    127342.000000            127342.000000   \n",
       "mean                  143.038228       156.661557               131.881744   \n",
       "std                    34.970227        35.824786                49.559399   \n",
       "min                     0.000000         0.000000                 0.000000   \n",
       "25%                   119.000000       135.000000               119.000000   \n",
       "50%                   143.000000       156.000000               137.000000   \n",
       "75%                   168.000000       178.000000               162.000000   \n",
       "max                   300.000000       300.000000               300.000000   \n",
       "\n",
       "         PUNT_GLOBAL  PERCENTIL_GLOBAL  PERCENTIL_NBC  \n",
       "count  127342.000000     127342.000000  127342.000000  \n",
       "mean      145.791695         50.391780      50.328423  \n",
       "std        27.001916         28.868851      28.881283  \n",
       "min         0.000000          1.000000       1.000000  \n",
       "25%       128.000000         25.000000      25.000000  \n",
       "50%       145.000000         50.000000      50.000000  \n",
       "75%       164.000000         75.000000      75.000000  \n",
       "max       278.000000        100.000000     100.000000  "
      ]
     },
     "execution_count": 15,
     "metadata": {},
     "output_type": "execute_result"
    }
   ],
   "source": [
    "num_type.describe()"
   ]
  },
  {
   "cell_type": "markdown",
   "metadata": {},
   "source": [
    "***En esta tabla obtenida de las variables númericas definidas se puede observar los diferentes rangos posibles de los puntajes, teniendo su valor minimo y máximo, los cuartiles definidos, el conteo de la cantidad de datos que tenemos, el promedio en el cual se repiten los datos y su desviación estándar. Dado que se busca analizar el rendimiento academico de los estudiantes si revisamos en el puntaje global podemos observar algo y es que el puntaje promedio de todos los estudiantes fue de 145 puntos de un valor máximo de 500 puntos, teniendo así que este promedio es un 29% del puntaje total que se puede obtener, con esto se puede tener una visualización bastante critica, dado que es un porcentaje bastante bajo y es poco esperado para este tipo de pruebas. Adicional a esto el percentil global tiene un promedio de 50 puntos el cual es bastante bajo y es un percentil que es esperado dado que el puntaje global fue bastante bajo el cual es un comparativo del puntaje de cada estudiante vs el resto del país***"
   ]
  },
  {
   "cell_type": "code",
   "execution_count": 31,
   "metadata": {
    "colab": {
     "base_uri": "https://localhost:8080/",
     "height": 320
    },
    "id": "ScMCnixSJid_",
    "outputId": "29e1da3f-8119-4127-a0a3-9f2cea273a66"
   },
   "outputs": [
    {
     "data": {
      "text/html": [
       "\n",
       "  <div id=\"df-95461e32-c7b1-4d6e-90af-cdebbcbf6dc6\" class=\"colab-df-container\">\n",
       "    <div>\n",
       "<style scoped>\n",
       "    .dataframe tbody tr th:only-of-type {\n",
       "        vertical-align: middle;\n",
       "    }\n",
       "\n",
       "    .dataframe tbody tr th {\n",
       "        vertical-align: top;\n",
       "    }\n",
       "\n",
       "    .dataframe thead th {\n",
       "        text-align: right;\n",
       "    }\n",
       "</style>\n",
       "<table border=\"1\" class=\"dataframe\">\n",
       "  <thead>\n",
       "    <tr style=\"text-align: right;\">\n",
       "      <th></th>\n",
       "      <th>MOD_RAZONA_CUANTITAT_PUNT</th>\n",
       "      <th>MOD_LECTURA_CRITICA_PUNT</th>\n",
       "      <th>MOD_COMPETEN_CIUDADA_PUNT</th>\n",
       "      <th>MOD_INGLES_PUNT</th>\n",
       "      <th>MOD_COMUNI_ESCRITA_PUNT</th>\n",
       "      <th>PUNT_GLOBAL</th>\n",
       "      <th>PERCENTIL_GLOBAL</th>\n",
       "      <th>PERCENTIL_NBC</th>\n",
       "    </tr>\n",
       "  </thead>\n",
       "  <tbody>\n",
       "    <tr>\n",
       "      <th>MOD_RAZONA_CUANTITAT_PUNT</th>\n",
       "      <td>1.000000</td>\n",
       "      <td>0.612623</td>\n",
       "      <td>0.555832</td>\n",
       "      <td>0.470267</td>\n",
       "      <td>0.251821</td>\n",
       "      <td>0.749420</td>\n",
       "      <td>0.742034</td>\n",
       "      <td>0.660769</td>\n",
       "    </tr>\n",
       "    <tr>\n",
       "      <th>MOD_LECTURA_CRITICA_PUNT</th>\n",
       "      <td>0.612623</td>\n",
       "      <td>1.000000</td>\n",
       "      <td>0.721000</td>\n",
       "      <td>0.502314</td>\n",
       "      <td>0.290180</td>\n",
       "      <td>0.811115</td>\n",
       "      <td>0.798833</td>\n",
       "      <td>0.744288</td>\n",
       "    </tr>\n",
       "    <tr>\n",
       "      <th>MOD_COMPETEN_CIUDADA_PUNT</th>\n",
       "      <td>0.555832</td>\n",
       "      <td>0.721000</td>\n",
       "      <td>1.000000</td>\n",
       "      <td>0.555992</td>\n",
       "      <td>0.259803</td>\n",
       "      <td>0.807061</td>\n",
       "      <td>0.793251</td>\n",
       "      <td>0.743580</td>\n",
       "    </tr>\n",
       "    <tr>\n",
       "      <th>MOD_INGLES_PUNT</th>\n",
       "      <td>0.470267</td>\n",
       "      <td>0.502314</td>\n",
       "      <td>0.555992</td>\n",
       "      <td>1.000000</td>\n",
       "      <td>0.204179</td>\n",
       "      <td>0.717214</td>\n",
       "      <td>0.677747</td>\n",
       "      <td>0.608750</td>\n",
       "    </tr>\n",
       "    <tr>\n",
       "      <th>MOD_COMUNI_ESCRITA_PUNT</th>\n",
       "      <td>0.251821</td>\n",
       "      <td>0.290180</td>\n",
       "      <td>0.259803</td>\n",
       "      <td>0.204179</td>\n",
       "      <td>1.000000</td>\n",
       "      <td>0.618184</td>\n",
       "      <td>0.581615</td>\n",
       "      <td>0.581912</td>\n",
       "    </tr>\n",
       "    <tr>\n",
       "      <th>PUNT_GLOBAL</th>\n",
       "      <td>0.749420</td>\n",
       "      <td>0.811115</td>\n",
       "      <td>0.807061</td>\n",
       "      <td>0.717214</td>\n",
       "      <td>0.618184</td>\n",
       "      <td>1.000000</td>\n",
       "      <td>0.967742</td>\n",
       "      <td>0.904002</td>\n",
       "    </tr>\n",
       "    <tr>\n",
       "      <th>PERCENTIL_GLOBAL</th>\n",
       "      <td>0.742034</td>\n",
       "      <td>0.798833</td>\n",
       "      <td>0.793251</td>\n",
       "      <td>0.677747</td>\n",
       "      <td>0.581615</td>\n",
       "      <td>0.967742</td>\n",
       "      <td>1.000000</td>\n",
       "      <td>0.927044</td>\n",
       "    </tr>\n",
       "    <tr>\n",
       "      <th>PERCENTIL_NBC</th>\n",
       "      <td>0.660769</td>\n",
       "      <td>0.744288</td>\n",
       "      <td>0.743580</td>\n",
       "      <td>0.608750</td>\n",
       "      <td>0.581912</td>\n",
       "      <td>0.904002</td>\n",
       "      <td>0.927044</td>\n",
       "      <td>1.000000</td>\n",
       "    </tr>\n",
       "  </tbody>\n",
       "</table>\n",
       "</div>\n",
       "    <div class=\"colab-df-buttons\">\n",
       "\n",
       "  <div class=\"colab-df-container\">\n",
       "    <button class=\"colab-df-convert\" onclick=\"convertToInteractive('df-95461e32-c7b1-4d6e-90af-cdebbcbf6dc6')\"\n",
       "            title=\"Convert this dataframe to an interactive table.\"\n",
       "            style=\"display:none;\">\n",
       "\n",
       "  <svg xmlns=\"http://www.w3.org/2000/svg\" height=\"24px\" viewBox=\"0 -960 960 960\">\n",
       "    <path d=\"M120-120v-720h720v720H120Zm60-500h600v-160H180v160Zm220 220h160v-160H400v160Zm0 220h160v-160H400v160ZM180-400h160v-160H180v160Zm440 0h160v-160H620v160ZM180-180h160v-160H180v160Zm440 0h160v-160H620v160Z\"/>\n",
       "  </svg>\n",
       "    </button>\n",
       "\n",
       "  <style>\n",
       "    .colab-df-container {\n",
       "      display:flex;\n",
       "      gap: 12px;\n",
       "    }\n",
       "\n",
       "    .colab-df-convert {\n",
       "      background-color: #E8F0FE;\n",
       "      border: none;\n",
       "      border-radius: 50%;\n",
       "      cursor: pointer;\n",
       "      display: none;\n",
       "      fill: #1967D2;\n",
       "      height: 32px;\n",
       "      padding: 0 0 0 0;\n",
       "      width: 32px;\n",
       "    }\n",
       "\n",
       "    .colab-df-convert:hover {\n",
       "      background-color: #E2EBFA;\n",
       "      box-shadow: 0px 1px 2px rgba(60, 64, 67, 0.3), 0px 1px 3px 1px rgba(60, 64, 67, 0.15);\n",
       "      fill: #174EA6;\n",
       "    }\n",
       "\n",
       "    .colab-df-buttons div {\n",
       "      margin-bottom: 4px;\n",
       "    }\n",
       "\n",
       "    [theme=dark] .colab-df-convert {\n",
       "      background-color: #3B4455;\n",
       "      fill: #D2E3FC;\n",
       "    }\n",
       "\n",
       "    [theme=dark] .colab-df-convert:hover {\n",
       "      background-color: #434B5C;\n",
       "      box-shadow: 0px 1px 3px 1px rgba(0, 0, 0, 0.15);\n",
       "      filter: drop-shadow(0px 1px 2px rgba(0, 0, 0, 0.3));\n",
       "      fill: #FFFFFF;\n",
       "    }\n",
       "  </style>\n",
       "\n",
       "    <script>\n",
       "      const buttonEl =\n",
       "        document.querySelector('#df-95461e32-c7b1-4d6e-90af-cdebbcbf6dc6 button.colab-df-convert');\n",
       "      buttonEl.style.display =\n",
       "        google.colab.kernel.accessAllowed ? 'block' : 'none';\n",
       "\n",
       "      async function convertToInteractive(key) {\n",
       "        const element = document.querySelector('#df-95461e32-c7b1-4d6e-90af-cdebbcbf6dc6');\n",
       "        const dataTable =\n",
       "          await google.colab.kernel.invokeFunction('convertToInteractive',\n",
       "                                                    [key], {});\n",
       "        if (!dataTable) return;\n",
       "\n",
       "        const docLinkHtml = 'Like what you see? Visit the ' +\n",
       "          '<a target=\"_blank\" href=https://colab.research.google.com/notebooks/data_table.ipynb>data table notebook</a>'\n",
       "          + ' to learn more about interactive tables.';\n",
       "        element.innerHTML = '';\n",
       "        dataTable['output_type'] = 'display_data';\n",
       "        await google.colab.output.renderOutput(dataTable, element);\n",
       "        const docLink = document.createElement('div');\n",
       "        docLink.innerHTML = docLinkHtml;\n",
       "        element.appendChild(docLink);\n",
       "      }\n",
       "    </script>\n",
       "  </div>\n",
       "\n",
       "\n",
       "<div id=\"df-cd24cb1a-5a12-4f99-8750-60969dedf2a0\">\n",
       "  <button class=\"colab-df-quickchart\" onclick=\"quickchart('df-cd24cb1a-5a12-4f99-8750-60969dedf2a0')\"\n",
       "            title=\"Suggest charts\"\n",
       "            style=\"display:none;\">\n",
       "\n",
       "<svg xmlns=\"http://www.w3.org/2000/svg\" height=\"24px\"viewBox=\"0 0 24 24\"\n",
       "     width=\"24px\">\n",
       "    <g>\n",
       "        <path d=\"M19 3H5c-1.1 0-2 .9-2 2v14c0 1.1.9 2 2 2h14c1.1 0 2-.9 2-2V5c0-1.1-.9-2-2-2zM9 17H7v-7h2v7zm4 0h-2V7h2v10zm4 0h-2v-4h2v4z\"/>\n",
       "    </g>\n",
       "</svg>\n",
       "  </button>\n",
       "\n",
       "<style>\n",
       "  .colab-df-quickchart {\n",
       "      --bg-color: #E8F0FE;\n",
       "      --fill-color: #1967D2;\n",
       "      --hover-bg-color: #E2EBFA;\n",
       "      --hover-fill-color: #174EA6;\n",
       "      --disabled-fill-color: #AAA;\n",
       "      --disabled-bg-color: #DDD;\n",
       "  }\n",
       "\n",
       "  [theme=dark] .colab-df-quickchart {\n",
       "      --bg-color: #3B4455;\n",
       "      --fill-color: #D2E3FC;\n",
       "      --hover-bg-color: #434B5C;\n",
       "      --hover-fill-color: #FFFFFF;\n",
       "      --disabled-bg-color: #3B4455;\n",
       "      --disabled-fill-color: #666;\n",
       "  }\n",
       "\n",
       "  .colab-df-quickchart {\n",
       "    background-color: var(--bg-color);\n",
       "    border: none;\n",
       "    border-radius: 50%;\n",
       "    cursor: pointer;\n",
       "    display: none;\n",
       "    fill: var(--fill-color);\n",
       "    height: 32px;\n",
       "    padding: 0;\n",
       "    width: 32px;\n",
       "  }\n",
       "\n",
       "  .colab-df-quickchart:hover {\n",
       "    background-color: var(--hover-bg-color);\n",
       "    box-shadow: 0 1px 2px rgba(60, 64, 67, 0.3), 0 1px 3px 1px rgba(60, 64, 67, 0.15);\n",
       "    fill: var(--button-hover-fill-color);\n",
       "  }\n",
       "\n",
       "  .colab-df-quickchart-complete:disabled,\n",
       "  .colab-df-quickchart-complete:disabled:hover {\n",
       "    background-color: var(--disabled-bg-color);\n",
       "    fill: var(--disabled-fill-color);\n",
       "    box-shadow: none;\n",
       "  }\n",
       "\n",
       "  .colab-df-spinner {\n",
       "    border: 2px solid var(--fill-color);\n",
       "    border-color: transparent;\n",
       "    border-bottom-color: var(--fill-color);\n",
       "    animation:\n",
       "      spin 1s steps(1) infinite;\n",
       "  }\n",
       "\n",
       "  @keyframes spin {\n",
       "    0% {\n",
       "      border-color: transparent;\n",
       "      border-bottom-color: var(--fill-color);\n",
       "      border-left-color: var(--fill-color);\n",
       "    }\n",
       "    20% {\n",
       "      border-color: transparent;\n",
       "      border-left-color: var(--fill-color);\n",
       "      border-top-color: var(--fill-color);\n",
       "    }\n",
       "    30% {\n",
       "      border-color: transparent;\n",
       "      border-left-color: var(--fill-color);\n",
       "      border-top-color: var(--fill-color);\n",
       "      border-right-color: var(--fill-color);\n",
       "    }\n",
       "    40% {\n",
       "      border-color: transparent;\n",
       "      border-right-color: var(--fill-color);\n",
       "      border-top-color: var(--fill-color);\n",
       "    }\n",
       "    60% {\n",
       "      border-color: transparent;\n",
       "      border-right-color: var(--fill-color);\n",
       "    }\n",
       "    80% {\n",
       "      border-color: transparent;\n",
       "      border-right-color: var(--fill-color);\n",
       "      border-bottom-color: var(--fill-color);\n",
       "    }\n",
       "    90% {\n",
       "      border-color: transparent;\n",
       "      border-bottom-color: var(--fill-color);\n",
       "    }\n",
       "  }\n",
       "</style>\n",
       "\n",
       "  <script>\n",
       "    async function quickchart(key) {\n",
       "      const quickchartButtonEl =\n",
       "        document.querySelector('#' + key + ' button');\n",
       "      quickchartButtonEl.disabled = true;  // To prevent multiple clicks.\n",
       "      quickchartButtonEl.classList.add('colab-df-spinner');\n",
       "      try {\n",
       "        const charts = await google.colab.kernel.invokeFunction(\n",
       "            'suggestCharts', [key], {});\n",
       "      } catch (error) {\n",
       "        console.error('Error during call to suggestCharts:', error);\n",
       "      }\n",
       "      quickchartButtonEl.classList.remove('colab-df-spinner');\n",
       "      quickchartButtonEl.classList.add('colab-df-quickchart-complete');\n",
       "    }\n",
       "    (() => {\n",
       "      let quickchartButtonEl =\n",
       "        document.querySelector('#df-cd24cb1a-5a12-4f99-8750-60969dedf2a0 button');\n",
       "      quickchartButtonEl.style.display =\n",
       "        google.colab.kernel.accessAllowed ? 'block' : 'none';\n",
       "    })();\n",
       "  </script>\n",
       "</div>\n",
       "    </div>\n",
       "  </div>\n"
      ],
      "text/plain": [
       "                           MOD_RAZONA_CUANTITAT_PUNT  \\\n",
       "MOD_RAZONA_CUANTITAT_PUNT                   1.000000   \n",
       "MOD_LECTURA_CRITICA_PUNT                    0.612623   \n",
       "MOD_COMPETEN_CIUDADA_PUNT                   0.555832   \n",
       "MOD_INGLES_PUNT                             0.470267   \n",
       "MOD_COMUNI_ESCRITA_PUNT                     0.251821   \n",
       "PUNT_GLOBAL                                 0.749420   \n",
       "PERCENTIL_GLOBAL                            0.742034   \n",
       "PERCENTIL_NBC                               0.660769   \n",
       "\n",
       "                           MOD_LECTURA_CRITICA_PUNT  \\\n",
       "MOD_RAZONA_CUANTITAT_PUNT                  0.612623   \n",
       "MOD_LECTURA_CRITICA_PUNT                   1.000000   \n",
       "MOD_COMPETEN_CIUDADA_PUNT                  0.721000   \n",
       "MOD_INGLES_PUNT                            0.502314   \n",
       "MOD_COMUNI_ESCRITA_PUNT                    0.290180   \n",
       "PUNT_GLOBAL                                0.811115   \n",
       "PERCENTIL_GLOBAL                           0.798833   \n",
       "PERCENTIL_NBC                              0.744288   \n",
       "\n",
       "                           MOD_COMPETEN_CIUDADA_PUNT  MOD_INGLES_PUNT  \\\n",
       "MOD_RAZONA_CUANTITAT_PUNT                   0.555832         0.470267   \n",
       "MOD_LECTURA_CRITICA_PUNT                    0.721000         0.502314   \n",
       "MOD_COMPETEN_CIUDADA_PUNT                   1.000000         0.555992   \n",
       "MOD_INGLES_PUNT                             0.555992         1.000000   \n",
       "MOD_COMUNI_ESCRITA_PUNT                     0.259803         0.204179   \n",
       "PUNT_GLOBAL                                 0.807061         0.717214   \n",
       "PERCENTIL_GLOBAL                            0.793251         0.677747   \n",
       "PERCENTIL_NBC                               0.743580         0.608750   \n",
       "\n",
       "                           MOD_COMUNI_ESCRITA_PUNT  PUNT_GLOBAL  \\\n",
       "MOD_RAZONA_CUANTITAT_PUNT                 0.251821     0.749420   \n",
       "MOD_LECTURA_CRITICA_PUNT                  0.290180     0.811115   \n",
       "MOD_COMPETEN_CIUDADA_PUNT                 0.259803     0.807061   \n",
       "MOD_INGLES_PUNT                           0.204179     0.717214   \n",
       "MOD_COMUNI_ESCRITA_PUNT                   1.000000     0.618184   \n",
       "PUNT_GLOBAL                               0.618184     1.000000   \n",
       "PERCENTIL_GLOBAL                          0.581615     0.967742   \n",
       "PERCENTIL_NBC                             0.581912     0.904002   \n",
       "\n",
       "                           PERCENTIL_GLOBAL  PERCENTIL_NBC  \n",
       "MOD_RAZONA_CUANTITAT_PUNT          0.742034       0.660769  \n",
       "MOD_LECTURA_CRITICA_PUNT           0.798833       0.744288  \n",
       "MOD_COMPETEN_CIUDADA_PUNT          0.793251       0.743580  \n",
       "MOD_INGLES_PUNT                    0.677747       0.608750  \n",
       "MOD_COMUNI_ESCRITA_PUNT            0.581615       0.581912  \n",
       "PUNT_GLOBAL                        0.967742       0.904002  \n",
       "PERCENTIL_GLOBAL                   1.000000       0.927044  \n",
       "PERCENTIL_NBC                      0.927044       1.000000  "
      ]
     },
     "execution_count": 31,
     "metadata": {},
     "output_type": "execute_result"
    }
   ],
   "source": [
    "num_type.corr()"
   ]
  },
  {
   "cell_type": "markdown",
   "metadata": {},
   "source": [
    "***Se muestra gráficamente la correlación de las variables númericas y así poder encontrar cuales tienen mayor correlación una a la otra***"
   ]
  },
  {
   "cell_type": "code",
   "execution_count": 32,
   "metadata": {
    "colab": {
     "base_uri": "https://localhost:8080/",
     "height": 649
    },
    "id": "x52_xUpzPIph",
    "outputId": "c3f29f5c-7811-4b01-d847-505a89a6e055"
   },
   "outputs": [
    {
     "data": {
      "image/png": "[encoded data removed]",
      "text/plain": [
       "<Figure size 640x480 with 1 Axes>"
      ]
     },
     "metadata": {},
     "output_type": "display_data"
    }
   ],
   "source": [
    "sns.barplot(num_type.corr())\n",
    "plt.xticks(rotation=90)\n",
    "plt.show()"
   ]
  },
  {
   "cell_type": "markdown",
   "metadata": {
    "id": "Zyws3uiIR0dg"
   },
   "source": [
    "***Las variables que más se relacionan son \"PUNT_GLOBAL\" , \"PERCENTIL_GLOBAL\" y \"PERCENTIL_NBC\"***"
   ]
  },
  {
   "cell_type": "markdown",
   "metadata": {
    "id": "fAFuQqQCR9aq"
   },
   "source": [
    "***Dado que se está trabajando con una base de datos del ICFES SaberPro 2022, podemos decir que las variables que más se relaciona se dá porque se llevan una y otra de la mano, quiere decir que son variables que se necesitan la una a la otra para poder arrojar un resultado en general y verificar el rendimiento de las pruebas a nivel nacional de cada uno de los estudiantes, dando datos especificos como el rendimiento individual a nivel de puntaje global, el rendimiento individual con su puntaje vs el resto del país (Percentil Global) y el nucleo básico de conocimiento***"
   ]
  },
  {
   "cell_type": "markdown",
   "metadata": {
    "id": "bsBaNZ4H392w"
   },
   "source": [
    "***Se va a realizar un diagrama de boxplot para revisar el comportamiento general de los datos y si se tiene algún dato atipico y sus cuartiles de cada una de las variables***"
   ]
  },
  {
   "cell_type": "code",
   "execution_count": 18,
   "metadata": {
    "colab": {
     "base_uri": "https://localhost:8080/",
     "height": 430
    },
    "id": "_RkOQnny4BTY",
    "outputId": "dc2139ab-8012-4f52-f22b-8bb99056fe30"
   },
   "outputs": [
    {
     "data": {
      "image/png": "[encoded data removed]",
      "text/plain": [
       "<Figure size 640x480 with 1 Axes>"
      ]
     },
     "metadata": {},
     "output_type": "display_data"
    }
   ],
   "source": [
    "plt.boxplot(num_type.corr())\n",
    "plt.show()"
   ]
  },
  {
   "cell_type": "markdown",
   "metadata": {
    "id": "3BSoOuD146Ol"
   },
   "source": [
    "***En este gráfico de barplot se puede observar que el modulo de comunicación escrita tuvo un puntaje muy bajo en cuanto a las diferentes variables que conllevan a un buen resultado, teniendo así que es donde peor le fue a los estudiantes en la prueba Saber Pro 2022, adicional a esto en el módulo de inglés se observan un par de datos atipicos, esto puede darse por la diferencia de resultados entre los estudiantes.***"
   ]
  },
  {
   "cell_type": "code",
   "execution_count": 16,
   "metadata": {},
   "outputs": [
    {
     "data": {
      "text/plain": [
       "array([187, 163, 176, 114, 145, 192, 143, 173,   0, 141, 125, 138, 111,\n",
       "       133, 105, 150, 146, 139, 134, 154, 215, 142, 201, 122, 166, 156,\n",
       "       129, 119, 113, 194, 152, 149, 171, 101, 161, 136, 174, 127, 165,\n",
       "       170, 126, 162, 177, 211, 144, 140, 157, 213, 218, 175,  89, 172,\n",
       "       300, 193, 160, 184, 188, 185, 130, 164, 155, 186, 121, 132, 151,\n",
       "       128, 169, 182, 158, 148, 222, 115, 181, 135, 116, 206, 117, 200,\n",
       "       217, 153, 123, 159, 180, 219, 147, 202, 131, 210, 214, 118, 197,\n",
       "       195, 137, 178, 196, 106, 168, 179,  86, 204,  99, 205, 190,  79,\n",
       "       199, 203, 183,  95, 189, 216, 208, 102, 212, 167, 110, 198, 104,\n",
       "       207, 191, 230, 100, 108, 231, 209, 112, 124, 120, 220, 225, 107,\n",
       "        91,  97, 103, 221,  90,  98,  88, 109,  85,  96, 223,  92,  94,\n",
       "        81, 224, 227,  80,  82, 226,  83,  93,  77, 228,  87,  84,  78,\n",
       "       229], dtype=int64)"
      ]
     },
     "execution_count": 16,
     "metadata": {},
     "output_type": "execute_result"
    }
   ],
   "source": [
    "num_type[\"MOD_INGLES_PUNT\"].unique()"
   ]
  },
  {
   "cell_type": "markdown",
   "metadata": {
    "id": "UOjzR9zm9sTM"
   },
   "source": [
    "• **Para poder verificar una de las variables más impactantes en el rendimiento academico sobre la prueba realizada, se va a realizar un gráfico tipo pie para poder verificar el porcentaje de estudiantes que tuvo algún tipo de capacitación y si realmente es una variable o carácteristica importante para obtener un buen resultado.**"
   ]
  },
  {
   "cell_type": "code",
   "execution_count": 58,
   "metadata": {
    "colab": {
     "base_uri": "https://localhost:8080/"
    },
    "id": "bmcvNJVe_MZl",
    "outputId": "c8eeb03e-0770-4d18-bc32-5d1de8547ee2"
   },
   "outputs": [
    {
     "data": {
      "text/plain": [
       "array(['Repasó por cuenta propia', 'Tomó un curso de preparación',\n",
       "       'No realizó ninguna prueba de preparación'], dtype=object)"
      ]
     },
     "execution_count": 58,
     "metadata": {},
     "output_type": "execute_result"
    }
   ],
   "source": [
    "Cat_type[\"ESTU_COMOCAPACITOEXAMENSB11\"].unique() ## Verificamos los datos que vamos a obtener de como se capacitaron"
   ]
  },
  {
   "cell_type": "code",
   "execution_count": 41,
   "metadata": {
    "id": "dbShg-Eh-gVP"
   },
   "outputs": [],
   "source": [
    "# Se desarrolla dos listas con los colores y los titulos de nuestro pie chart\n",
    "colores = [\"green\",\"red\",\"blue\",\"blue\",\"yellow\"]\n",
    "titulos = ['Repasó por cuenta propia', 'Tomó un curso de preparación',\n",
    "       'No realizó ninguna prueba de preparación']"
   ]
  },
  {
   "cell_type": "code",
   "execution_count": 43,
   "metadata": {
    "colab": {
     "base_uri": "https://localhost:8080/",
     "height": 406
    },
    "id": "wAcw44fh9vzQ",
    "outputId": "ff6fcbb0-debc-4f76-e63b-3d415a5db62c"
   },
   "outputs": [
    {
     "data": {
      "image/png": "[encoded data removed]",
      "text/plain": [
       "<Figure size 640x480 with 1 Axes>"
      ]
     },
     "metadata": {},
     "output_type": "display_data"
    }
   ],
   "source": [
    "# Se gráfica el pie char usando el conteo de los valores que tenemos\n",
    "plt.pie(Cat_type[\"ESTU_COMOCAPACITOEXAMENSB11\"].value_counts(), colors=colores, labels =titulos,autopct='%1.1f%%',\n",
    "       pctdistance=1.25, labeldistance=.6)\n",
    "plt.show()"
   ]
  },
  {
   "cell_type": "markdown",
   "metadata": {
    "id": "Qub-if0T_3py"
   },
   "source": [
    "***Se puede observar que el 68.3% de los estudiantes prefirieron estudiar por cuenta propia, dado que teniendo en cuenta los costos que tienen tomar un curso de preparación es lógico que prefieran hacerlo por cuenta propia, ya que si verificamos inicialmente su estrato socioeconómico esta mayoría pertenece a estrato 2 y es una variable siginificativa en cuanto a temas monetarios para estas preparaciones, dado que se debe de tener en cuenta que estos estudiantes deben de pagar el semestre y sus gastos universitarios en general, el 22.1% que tomó el curso de preparación no necesariamente se debe a que sea de un mayor estrato socioeconómico, pero se tiene una menor cuantía, se debe de verificar en un analisis más profundo la relación entre estas variables y el resultado academico, dado que nos podría dar una gradiosa conclusión de sí realmente funcionan este tipo de cursos o no.***"
   ]
  },
  {
   "cell_type": "markdown",
   "metadata": {
    "id": "lYatk3xACF4d"
   },
   "source": [
    "• **Se realizará un scatter plot, con el cual se va a analizar el comportamiento de las variables númericas y si gráficamente se ve una distribución de puntos entre ellas.**"
   ]
  },
  {
   "cell_type": "code",
   "execution_count": 71,
   "metadata": {
    "colab": {
     "base_uri": "https://localhost:8080/",
     "height": 453
    },
    "id": "BWOf-tczAuC-",
    "outputId": "fc6fe6a7-a493-4385-fd49-9722fc482c35"
   },
   "outputs": [
    {
     "data": {
      "image/png": "[encoded data removed]",
      "text/plain": [
       "<Figure size 640x480 with 1 Axes>"
      ]
     },
     "metadata": {},
     "output_type": "display_data"
    }
   ],
   "source": [
    "plt.scatter(icfes[[\"MOD_RAZONA_CUANTITAT_PUNT\",\"MOD_LECTURA_CRITICA_PUNT\",\"MOD_COMPETEN_CIUDADA_PUNT\",\"MOD_INGLES_PUNT\",\"MOD_COMUNI_ESCRITA_PUNT\",\"PUNT_GLOBAL\",\"PERCENTIL_GLOBAL\",\"PERCENTIL_NBC\"]],num_type)\n",
    "plt.title(\"Scatter plot Variables Númericas\")\n",
    "plt.show()"
   ]
  },
  {
   "cell_type": "markdown",
   "metadata": {
    "id": "HRNQwtEcBtHN"
   },
   "source": [
    "***En este gráfico se puede observar que los datos que estamos estudiando tienen una similitud y un comportamiento bastante ideal, y es lo que se espera dado que casí todos los resultados van en crecimiento de más de 100 y hasta 500, otros llegan hasta el 100 y por lo tanto su comportamiento gráfico es lo esperado.***"
   ]
  },
  {
   "cell_type": "markdown",
   "metadata": {
    "id": "5ianUODf2PGd"
   },
   "source": [
    "***De el dataset inicial icfes se tomó la variable Percentíl Global, la cual es una variable continua al tener números que pueden ir desde el 1 a el 100, en el cuál pueden tomar cualquier valor dependiendo el rendimiento del estudiante, por lo tanto es una variable ideal para categorizar y poder presentar de manera más sencilla que significa cada percentíl a el que pertenece el resultado de cada estudiante***"
   ]
  },
  {
   "cell_type": "code",
   "execution_count": 31,
   "metadata": {
    "id": "oa-sskqBx5NG"
   },
   "outputs": [],
   "source": [
    "# Inicialmente se determinan los intervalos y las categorías que se van a utilizar\n",
    "intervalos = [1,20,40,60,80,100]\n",
    "categorias = [\"Muy bajo\", \"Bajo\", \"Medio\", \"Alto\", \"Muy Alto\"]"
   ]
  },
  {
   "cell_type": "code",
   "execution_count": 32,
   "metadata": {
    "colab": {
     "base_uri": "https://localhost:8080/"
    },
    "id": "CEW6BiZA0qCv",
    "outputId": "956f9273-3ead-4da7-d4a3-495052875ec7"
   },
   "outputs": [
    {
     "name": "stdout",
     "output_type": "stream",
     "text": [
      "0         Muy Alto\n",
      "1            Medio\n",
      "2            Medio\n",
      "3         Muy bajo\n",
      "4             Bajo\n",
      "            ...   \n",
      "127337        Bajo\n",
      "127338        Bajo\n",
      "127339        Alto\n",
      "127340        Alto\n",
      "127341        Alto\n",
      "Name: Categorias_Percentil_Global, Length: 127342, dtype: category\n",
      "Categories (5, object): ['Muy bajo' < 'Bajo' < 'Medio' < 'Alto' < 'Muy Alto']\n"
     ]
    }
   ],
   "source": [
    "# Luego se crea una columna nueva en nuestro dataset y adicional a esto se usa la función pd.cut el cual según la documentación de pandas nos sirve para realizar la converción de continua a categorica\n",
    "icfes[\"Categorias_Percentil_Global\"] = pd.cut(icfes[\"PERCENTIL_GLOBAL\"], bins = intervalos, labels = categorias)\n",
    "print(icfes[\"Categorias_Percentil_Global\"])"
   ]
  },
  {
   "cell_type": "markdown",
   "metadata": {
    "id": "oBWbUVJr1oe8"
   },
   "source": [
    "***Se propuso esta estandarización, debido a que los datos tienen cinco segmentos de datos, en los cuales se determinan los puntajes, muy bajo, bajo, medio, alto y muy alto, con esto poder determinar como le fue a los estudiantes en su percentil global y que pueda haber un entendimiento más facil de dicho puntaje y no solamente dejar un número que a veces las personas no entienden en la primera vez y deben de buscar información especifcia e incluso poder quedar con dudas, por lo tanto se desarrollo esta categorización para facilitar el entendimiento de estos datos.***"
   ]
  },
  {
   "cell_type": "code",
   "execution_count": 36,
   "metadata": {},
   "outputs": [
    {
     "data": {
      "image/png": "[encoded data removed]",
      "text/plain": [
       "<Figure size 640x480 with 1 Axes>"
      ]
     },
     "metadata": {},
     "output_type": "display_data"
    }
   ],
   "source": [
    "import seaborn as sns\n",
    "import matplotlib.pyplot as plt\n",
    "\n",
    "# Reemplaza 'Categorias_Percentil_Global' con el nombre de tu columna categórica\n",
    "sns.violinplot(x='Categorias_Percentil_Global', y = \"PERCENTIL_GLOBAL\", data=icfes, palette=\"Set2\", inner=\"points\")\n",
    "plt.title('Diagrama de Violín para Variable Categórica')\n",
    "plt.xlabel('Categorias_Percentil_Global')\n",
    "plt.show()"
   ]
  },
  {
   "cell_type": "markdown",
   "metadata": {},
   "source": [
    "***En en gráfico de violín obtenido se puede ver claramente la clasificación dada para esta variable categorica, donde se indican según el puntaje del percentil global obtenido su estado frente a nivel nacional, lo cuál es importante dado que se entiende de una manera más facíl el funcionamiento de esta variable.***"
   ]
  },
  {
   "cell_type": "code",
   "execution_count": 28,
   "metadata": {
    "id": "pAXegiSetXO9"
   },
   "outputs": [
    {
     "data": {
      "image/png": "[encoded data removed]",
      "text/plain": [
       "<Figure size 640x480 with 1 Axes>"
      ]
     },
     "metadata": {},
     "output_type": "display_data"
    }
   ],
   "source": [
    "plt.hist(escalar)\n",
    "plt.ylabel(\"Frecuencias\")\n",
    "plt.xlabel(\"Escalares\")\n",
    "plt.show()"
   ]
  },
  {
   "cell_type": "markdown",
   "metadata": {},
   "source": [
    "***En el histograma desarrollado con los valores escalados se puede observar claramente la distribución de los datos, teniendo una distribución normal para los datos de PUNT_GlOBAL en la cual vemos que se está comportando de manera ideal en este gráfico, adicional a esto la distribución de PERCENTIL_GLOBAL es también normal, tiene una curvatura bastante ideal. Adicional a esto podemos observar que ambas variables tienen una correlación entre ellas y es de esperarse dado que una depende de la otra y se deben de correlacionar para determinar el rendimiento academico de los estudiantes.***"
   ]
  },
  {
   "cell_type": "code",
   "execution_count": 39,
   "metadata": {},
   "outputs": [
    {
     "data": {
      "image/png": "[encoded data removed]",
      "text/plain": [
       "<Figure size 640x480 with 1 Axes>"
      ]
     },
     "metadata": {},
     "output_type": "display_data"
    }
   ],
   "source": [
    "sns.barplot(icfes[[\"MOD_RAZONA_CUANTITAT_PUNT\",\"MOD_LECTURA_CRITICA_PUNT\",\"MOD_COMPETEN_CIUDADA_PUNT\",\"MOD_INGLES_PUNT\",\"MOD_COMUNI_ESCRITA_PUNT\",\"PUNT_GLOBAL\"]])\n",
    "plt.xticks(rotation=90)\n",
    "plt.show()"
   ]
  },
  {
   "cell_type": "markdown",
   "metadata": {},
   "source": [
    "***En este gráfico de barras de todos los puntajes que se obtuvieron en las pruebas desarrolladas encontramos los promedios de todas las notas obtenidas obtenidas, se puede denotar que en el modulo de comunicación escrita fue donde peor puntaje obtuvieron los estudiantes, adicional a esto en el módulo de ingles fue el mejor puntaje promedio que se obtuvo, pero igualmente el puntaje general fue bastante bajo dado que se tiene un promedio de 145 a 150 aproximadamente lo cual es bajo para el rango entre 0 a 500 que se puede obtener en estas pruebas***"
   ]
  },
  {
   "cell_type": "markdown",
   "metadata": {},
   "source": [
    "# **CONCLUSIONES**\n",
    "\n",
    "- En el analisis desarrollado se pudo observar que los estudiantes a nivel general tuvieron un rendimiento academico bastante bajo, dado que el puntaje global promedio fue de 145.791695 que es bastante bajo para el rango de datos que contiene esta variable que va desde el 0 a 500.\n",
    "\n",
    "- Se pudo observar que los percentiles globales también fueron muy malos, es algo de esperar por el bajo rendimiento de todos los estudiantes con estas prubas, donde este percentil tuvo como promedio puntaje de 50.\n",
    "\n",
    "- Al momento de desarrollar el boxplot se tiene que hay algunos datos atipicos, los cuales puede deberse a algún error al momento de la calificación o perdida de datos.\n",
    "\n",
    "- Los resultados bajos se deben en parte a las maneras de como se prepararon los estudiantes para estas pruebas y posiblemente tuvo un impacto muy grande.\n",
    "\n",
    "- Se pudo desarrollar gráficos cientificos los cuales permitieron realizar analisis generales de las variables de interés que se buscaban analizar."
   ]
  },
  {
   "cell_type": "markdown",
   "metadata": {},
   "source": [
    "# DISCUSION GENERAL DE HALLAZGOS SIGNIFICATIVOS\n",
    "\n",
    "En los hallazgos más significativos se tuvo que el promedio de calificaciones en todos los modulos fue bastante bajo, teniendo en cuenta que al ser una prueba de analisis de rendimiento general se debe de plantear un cambio en la forma de estudio, dado que si se puede observar en los estratos de los estudiantes todos son estrato 2, carácteristica que nos permite intuir que las personas no tienen como prepararse con pruebas o examenes que hacen empresas especializadas en el tema. Se puede utilizar gestión un poco más directa con los estudiantes utilizando herramientas tecnologicas que le permitan estudiar de manera autonoma, pero con pruebas parecidas a las saber pro y con esto poder tener una preparación ideal. Se observo que los estudiantes para las pruebas B11 la mayoría repasó por cuenta propia y con esto se espera que los estudiantes al estar en universidades no tengan el mismo tiempo y esta cantidad de repasos por cuenta propia aumenten su porción. Es preocupante la evaluación del nivel de los Núcleos Básicos de Conocimiento, dado que el puntaje fue bastante mediocre teniendo en cuenta la cantidad de profesiones que se presentaron a estas pruebas."
   ]
  },
  {
   "cell_type": "markdown",
   "metadata": {},
   "source": [
    "# **REFERENCIAS**\n",
    "- Alex Galea. (2018). Applied Data Science with Python and Jupyter: Use Powerful Industry-standard Tools to Unlock New, Actionable Insights From Your Data: Vol. 1st edition. Packt Publishing. (pp. 29-49). https://bibliotecavirtual.unad.edu.co/login?url=https://search.ebscohost.com/login.aspx?direct=true&db=nlebk&AN=1925348&lang=es&site=ehost-live&ebv=EB&ppid=pp_29 \n",
    "- Boschetti, A., & Massaron, L. (2016). Python Data Science Essentials - Second Edition (Vol. 0002). Packt Publishing. (pp. 124-134). https://bibliotecavirtual.unad.edu.co/login?url=https://search.ebscohost.com/login.aspx?direct=true&db=nlebk&AN=1409191&lang=es&site=ehost-live&ebv=EB&ppid=pp_124\n",
    "- Samir Madhavan. (2015). Mastering Python for Data Science: Explore the World of Data Science Through Python and Learn How to Make Sense of Data. Packt Publishing. (pp. 77-106). https://bibliotecavirtual.unad.edu.co/login?url=https://search.ebscohost.com/login.aspx?direct=true&db=nlebk&AN=1058787&lang=es&site=ehost-live&ebv=EB&ppid=pp_77\n",
    "- Subramanian, G. (2015). Python Data Science Cookbook. Packt Publishing. (pp. 85-126). https://bibliotecavirtual.unad.edu.co/login?https://search.ebscohost.com/login.aspx?direct=true&db=nlebk&AN=1098904&lang=es&site=ehost-live&ebv=EB&ppid=pp_85\n",
    "- Thakur, A. (2016). Python: Real-World Data Science. Packt Publishing. (pp. 536 - 563). https://bibliotecavirtual.unad.edu.co/login?https://search.ebscohost.com/login.aspx?direct=true&db=nlebk&AN=1250754&lang=es&site=ehost-live&ebv=EB&ppid=pp_536"
   ]
  }
 ],
 "metadata": {
  "colab": {
   "provenance": []
  },
  "kernelspec": {
   "display_name": "Python 3 (ipykernel)",
   "language": "python",
   "name": "python3"
  },
  "language_info": {
   "codemirror_mode": {
    "name": "ipython",
    "version": 3
   },
   "file_extension": ".py",
   "mimetype": "text/x-python",
   "name": "python",
   "nbconvert_exporter": "python",
   "pygments_lexer": "ipython3",
   "version": "3.11.4"
  }
 },
 "nbformat": 4,
 "nbformat_minor": 1
}
