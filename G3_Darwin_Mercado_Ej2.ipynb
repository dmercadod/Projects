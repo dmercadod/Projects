{
 "cells": [
  {
   "cell_type": "markdown",
   "metadata": {
    "id": "rcVzi8DAmDWd"
   },
   "source": [
    "<div class=\"text-cell-section-header\">\n",
    "<h1 style=\"text-align: center;\"><strong>PROGRAMACI&Oacute;N PARA EL AN&Aacute;LISIS DE DATOS</strong></h1>\n",
    "</div>\n",
    "<h1 style=\"text-align: center;\"><strong>Tarea 1 - Principios b&aacute;sicos de programaci&oacute;n cient&iacute;fica.</strong></h1>\n",
    "<h1 style=\"text-align: center;\"><strong>PRESENTADO POR: DARWIN MERCADO</strong></h1>\n",
    "<h1 style=\"text-align: center;\"><strong>GRUPO 203008069_3</strong></h1>\n",
    "<h1 style=\"text-align: center;\"><strong>PRESENTADO A FELIPE ALEXANDER PIPICANO GUZMAN</strong></h1>\n",
    "<h1 style=\"text-align: center;\"><strong>Universidad Nacional Abierta y a Distancia &ndash; UNAD</strong></h1>\n",
    "<h1 style=\"text-align: center;\"><strong>18 de septiembre del 2023</strong></h1>"
   ]
  },
  {
   "cell_type": "markdown",
   "metadata": {
    "id": "pnVPoTGPmGZr"
   },
   "source": [
    "# **Presentación del ejercicio**\n",
    "\n",
    "En este ejercicio se utilizaran varios operadores, matrices y vectores, para calcular las siguientes solicitudes por parte del tutor.\n",
    "\n",
    "• Calcule el siguiente vector x, usando operaciones de matrices\n",
    "(dot, transpose, inv) de numpy.linalg:\n",
    "$ = (𝐴^\n",
    "𝑇𝐴)\n",
    "−1𝐴^\n",
    "𝑇𝑏$\n",
    "y calcule $‖𝐴𝑥 − 𝑏‖$ utilizando la función numpy.linalg.norm.\n",
    "\n",
    "• Solucione el siguiente sistema de ecuaciones, mediante la\n",
    "función numpy.linalg.solve (de ser necesario, investigue la\n",
    "función en la documentación de numpy):\n",
    "$(𝐴^\n",
    "𝑇𝐴)𝑥 = 𝐴^\n",
    "𝑇𝑏$\n",
    "y calcule $‖𝐴𝑥 − 𝑏‖$ utilizando la función numpy.linalg.norm.\n",
    "\n",
    "• Solucione el siguiente sistema de ecuaciones, mediante la\n",
    "función numpy.linalg.lstsq (de ser necesario, investigue la\n",
    "función en la documentación de numpy):\n",
    "$𝐴𝑥 = 𝑏$\n",
    "y calcule $‖𝐴𝑥 − 𝑏‖$ utilizando la función numpy.linalg.norm.\n",
    "5\n",
    "\n",
    "• Compare todos los resultados obtenidos y anexe una discusión\n",
    "en el análisis de resultados.\n"
   ]
  },
  {
   "cell_type": "markdown",
   "metadata": {
    "id": "NgDSlgvoickA"
   },
   "source": [
    "# **Revisión teórica**\n",
    "\n",
    "- **Arreglos**: Un arreglo es una estructura de datos que almacena datos del mismo tipo, ya sean numeros, cadenas de texto, entre otros. para acceder a sus elementos es mediante un indice el cual inicia en 0. (Thakur, 2016)\n",
    "\n",
    "- **Vectores**: Los vectores es una secuencia ordena de numeros o elementos y tienen una estructura unidimensional, estos son esenciales en algebra lineal para representar puntos, fuerzas, entre otras caracteristicas. (Thakur, 2016)\n",
    "\n",
    "- **Matriz**: Es una estructura bidimensional que cuenta con filas y columnas, los cuales cada uno tiene su indice, entre sus usos mas importantes se destaca el uso en ecuaciones lineales, estadistica y transformación de algunos datos. (Thakur, 2016)\n",
    "\n",
    "- **Operadores matemáticos**: Los operadores matemáticos son herramientas claves para la realización de calculos y exploración de ecuaciones, su uso es importante en varios campos, tales como la fisica, quimica, matemática, ciencia de datos, entre otros, los más utilizados son:\n",
    "Suma (+)\n",
    "Resta(-)\n",
    "Multiplicación(*)\n",
    "División(/)\n",
    "Producto escalar.  (Thakur, 2016)"
   ]
  },
  {
   "cell_type": "markdown",
   "metadata": {
    "id": "-nPz7GjF2goz"
   },
   "source": [
    "# **Desarrollo del código**"
   ]
  },
  {
   "cell_type": "code",
   "execution_count": null,
   "metadata": {
    "id": "DYtQlZxMpypM"
   },
   "outputs": [],
   "source": [
    "import numpy as np"
   ]
  },
  {
   "cell_type": "code",
   "execution_count": null,
   "metadata": {
    "colab": {
     "base_uri": "https://localhost:8080/"
    },
    "id": "rQcRX9elp1Ql",
    "outputId": "ddf67fe5-9414-46ed-9b26-4016432333cc"
   },
   "outputs": [
    {
     "name": "stdout",
     "output_type": "stream",
     "text": [
      "[[13  1]\n",
      " [14  1]\n",
      " [15  1]\n",
      " [16  1]\n",
      " [17  1]\n",
      " [18  1]]\n"
     ]
    }
   ],
   "source": [
    "#Construya la siguiente matriz como un arreglo de numpy:\n",
    "A = np.array([[13, 1],\n",
    "              [14, 1],\n",
    "              [15, 1],\n",
    "              [16, 1],\n",
    "              [17, 1],\n",
    "              [18, 1]])\n",
    "\n",
    "print(A)"
   ]
  },
  {
   "cell_type": "code",
   "execution_count": null,
   "metadata": {
    "colab": {
     "base_uri": "https://localhost:8080/"
    },
    "id": "8NioB3MNxxyd",
    "outputId": "b663886d-b1a7-4b78-95ed-65f17dff32e9"
   },
   "outputs": [
    {
     "data": {
      "text/plain": [
       "array([[ 16],\n",
       "       [ 24],\n",
       "       [ 45],\n",
       "       [ 57],\n",
       "       [ 75],\n",
       "       [102]])"
      ]
     },
     "execution_count": 4,
     "metadata": {},
     "output_type": "execute_result"
    }
   ],
   "source": [
    "##Construya el siguiente vector como arreglo de numpy\n",
    "B = np.array([[16],[24],[45],[57],[75],[102]])\n",
    "B"
   ]
  },
  {
   "cell_type": "markdown",
   "metadata": {
    "id": "uj3zoqOHdJPL"
   },
   "source": [
    "# $ x = (𝐴^𝑇𝐴)^-1 𝐴^𝑇𝑏$"
   ]
  },
  {
   "cell_type": "code",
   "execution_count": null,
   "metadata": {
    "id": "11w5_Ql1xzSA"
   },
   "outputs": [],
   "source": [
    "ATA = np.dot(A.T, A)\n",
    "ATB= np.dot(A.T, B)\n",
    "x=np.dot(np.linalg.inv(ATA),ATB)"
   ]
  },
  {
   "cell_type": "code",
   "execution_count": null,
   "metadata": {
    "colab": {
     "base_uri": "https://localhost:8080/"
    },
    "id": "1hQrQFag0wrB",
    "outputId": "4fbfd9f6-2ea7-4d32-9155-726459fe6108"
   },
   "outputs": [
    {
     "data": {
      "text/plain": [
       "array([[  17.        ],\n",
       "       [-210.33333333]])"
      ]
     },
     "execution_count": 6,
     "metadata": {},
     "output_type": "execute_result"
    }
   ],
   "source": [
    "x"
   ]
  },
  {
   "cell_type": "markdown",
   "metadata": {
    "id": "d2Fdjwd4cxlc"
   },
   "source": [
    "# $ ||Ax-b||$"
   ]
  },
  {
   "cell_type": "code",
   "execution_count": null,
   "metadata": {
    "id": "q5b0CmTP0xTI"
   },
   "outputs": [],
   "source": [
    "norm1=np.linalg.norm(np.dot(A,x)-B)"
   ]
  },
  {
   "cell_type": "code",
   "execution_count": null,
   "metadata": {
    "colab": {
     "base_uri": "https://localhost:8080/"
    },
    "id": "sgaCZOr4z837",
    "outputId": "75934e3a-b5a9-4ca9-ad05-2659b334cca8"
   },
   "outputs": [
    {
     "data": {
      "text/plain": [
       "10.832051206181278"
      ]
     },
     "execution_count": 27,
     "metadata": {},
     "output_type": "execute_result"
    }
   ],
   "source": [
    "norm1"
   ]
  },
  {
   "cell_type": "markdown",
   "metadata": {
    "id": "cl0uE6Ssku7S"
   },
   "source": [
    "# $(𝐴^𝑇𝐴)𝑥 = 𝐴^𝑇𝑏$"
   ]
  },
  {
   "cell_type": "code",
   "execution_count": null,
   "metadata": {
    "colab": {
     "base_uri": "https://localhost:8080/"
    },
    "id": "Ob8n__8hk6V3",
    "outputId": "e702d89b-5321-40a6-ba98-5eb9b6c35f7f"
   },
   "outputs": [
    {
     "data": {
      "text/plain": [
       "array([[  17.        ],\n",
       "       [-210.33333333]])"
      ]
     },
     "execution_count": 24,
     "metadata": {},
     "output_type": "execute_result"
    }
   ],
   "source": [
    "ATA = np.dot(A.T, A)\n",
    "ATB= np.dot(A.T, B)\n",
    "w = np.linalg.solve(ATA,ATB)\n",
    "w"
   ]
  },
  {
   "cell_type": "markdown",
   "metadata": {
    "id": "iu4b0UTzmUT3"
   },
   "source": [
    "# $ ||Ax-b||$"
   ]
  },
  {
   "cell_type": "code",
   "execution_count": null,
   "metadata": {
    "colab": {
     "base_uri": "https://localhost:8080/"
    },
    "id": "Y7GGj6xVdBql",
    "outputId": "7da3fb4a-2fc0-4cd1-f311-b689a44d9fe3"
   },
   "outputs": [
    {
     "data": {
      "text/plain": [
       "10.832051206181278"
      ]
     },
     "execution_count": 11,
     "metadata": {},
     "output_type": "execute_result"
    }
   ],
   "source": [
    "a = np.linalg.norm(np.dot(A,w)-B)\n",
    "a"
   ]
  },
  {
   "cell_type": "markdown",
   "metadata": {
    "id": "3ZYF6p6Eu0gH"
   },
   "source": [
    "# $𝐴𝑥 = 𝑏$"
   ]
  },
  {
   "cell_type": "code",
   "execution_count": null,
   "metadata": {
    "id": "dtQYQ6CCuVjM"
   },
   "outputs": [],
   "source": [
    "z= np.linalg.lstsq(A,B, rcond=None)[0]"
   ]
  },
  {
   "cell_type": "code",
   "execution_count": null,
   "metadata": {
    "colab": {
     "base_uri": "https://localhost:8080/"
    },
    "id": "gFwkUR7judZ4",
    "outputId": "28dcc909-5059-4319-cf15-0e623f83f674"
   },
   "outputs": [
    {
     "data": {
      "text/plain": [
       "array([[  17.        ],\n",
       "       [-210.33333333]])"
      ]
     },
     "execution_count": 21,
     "metadata": {},
     "output_type": "execute_result"
    }
   ],
   "source": [
    "z"
   ]
  },
  {
   "cell_type": "markdown",
   "metadata": {
    "id": "_mHnuoU2mfOc"
   },
   "source": [
    "# $ ||Ax-b||$"
   ]
  },
  {
   "cell_type": "code",
   "execution_count": null,
   "metadata": {
    "id": "YegwBPZReJZc"
   },
   "outputs": [],
   "source": [
    "norm=np.linalg.norm(np.dot(A,z)-B)"
   ]
  },
  {
   "cell_type": "code",
   "execution_count": null,
   "metadata": {
    "colab": {
     "base_uri": "https://localhost:8080/"
    },
    "id": "of4JDgSke21J",
    "outputId": "23fd12bf-fbef-4054-9737-470b20151d81"
   },
   "outputs": [
    {
     "data": {
      "text/plain": [
       "10.832051206181276"
      ]
     },
     "execution_count": 23,
     "metadata": {},
     "output_type": "execute_result"
    }
   ],
   "source": [
    "norm"
   ]
  },
  {
   "cell_type": "markdown",
   "metadata": {
    "id": "VatPVd972pWP"
   },
   "source": [
    "# Análisis de los resultados\n",
    "\n",
    "## $ x = (𝐴^𝑇𝐴)^-1 𝐴^𝑇𝑏$\n",
    "\n",
    "- En el primer calculo de vector de x se utilizo las funciones de la libreria numpy.np.dot, la cual permite realizar el producto escalar entre dos arreglos o vectores. También se utilizo la función .T que es la traspuesta que viene en python como configuración básica, con estas funciones se calculó el valor de $A^T*A$ y el $A^T * b$ de manera separada, para luego utilizar np.linalg.inv que nos permite calcular la inversa, en este caso de el producto $A^T*A$, para así obtener el valor de x. Con esto tenemos una ecuación lineal $ y = 17*x - 210.3333$, que se podría graficar bajo los puntos dados inicialmente y sería nuestra recta ideal a partir de un gráfico de dispersión.\n",
    "\n",
    "## $ ||Ax-b||$\n",
    "\n",
    "Luego se obtuvo la norma de $ ||Ax-b||$ a partir del uso de numpy.linalg.norm. con la cual pudimos mirar la medida del tamaño o longitud en el espacio con un valor de 10.832051206181278.\n",
    "\n",
    "## $(𝐴^𝑇𝐴)𝑥 = 𝐴^𝑇b$\n",
    "\n",
    "Este sistema de ecuaciones se solucionó a partir del uso de la función numpy.linalg.solve la cual nos permite \"Resolver una ecuación matricial lineal o un sistema de ecuaciones escalares lineales\" obtenido de Numpy Documentation. Al usar esta función vemos que nos da la misma ecuación que se obtuvo en el primer calculo que se hizo de x que es de $ y = 17*x - 210.3333$ dado que esta resuelve un sistema de ecuaciones y nos da el resultado de $y=mx + b$ que es la formula de una ecuación lineal, como los datos eran los mismos se obtuvo el mismo valor de y.\n",
    "\n",
    "## $ ||Ax-b||$\n",
    "Se vuelve a obtener la norma con el uso de numpy.linalg.norm que como ya se había mencionado antes es el tamaño o longitud en el espacio y el valor es el mismo, dado que las variables son las mismas y se usa la misma ecuación.\n",
    "\n",
    "## $ Ax=b$\n",
    "Este sistema de ecuaciones se solucionó a partir de numpy.linalg.lstsq la cual nos devuelve la solucion de minimos cuadrados para una ecuación lineal. Se observo que se le debe de indicar que nos muestre la posición cero al finalizar nuestro código para que aí solamente nos muestre la ecuación lineal $ y = 17*x - 210.3333$, que es el mismo resultado como es de esperar dado que los datos inicialmente dados siguen siendo los mismos y se está utilizando una metodología diferente para calcular la misma ecuación lineal.\n",
    "\n",
    "## $ ||Ax-b||$\n",
    "\n",
    "Se vuelve a obtener la norma a partir del uso de la misma función numpy.linalg.norm la cual nos va a dar el mismo resultado, dado que la ecuación sigue teniendo los mismos valores."
   ]
  },
  {
   "cell_type": "markdown",
   "metadata": {
    "id": "HtrZJViEla5C"
   },
   "source": [
    "# **Conclusiones**\n",
    "\n",
    "Se pudo observar que la ecuación obtenida fue la misma en todas las formas de ecuación, dado que en cada uno de los procedimientos se utilizaba la misma ecuación, simplemente tenían diferentes posiciones en su calculo, lo cual nos llevaba siempre al mismo resultado. si observamos la ecuación de $ x = (𝐴^𝑇𝐴)^-1 𝐴^𝑇𝑏$ podemos observar que se está despejando x, pero si en cambio devolvemos la ecuación a este estado $(𝐴^𝑇𝐴)𝑥 = 𝐴^𝑇b$ simplemente se esta quitando la inversa, con lo cual podemos cancelar las A^T y obtener la última ecuación solicitada de $Ax=b$ con lo cual se obtiene un mismo resultado usando los diferentes metodos en python con la librería de numpy. Asi mismo con la norma esta en las que fueron solicitadas por el tutor siempre tenían la misma forma, por lo tanto se obtenía la norma de 10.832051206181278. en todos los resultados."
   ]
  },
  {
   "cell_type": "markdown",
   "metadata": {
    "id": "TgweQ12M0NwE"
   },
   "source": [
    "# **Referencias**\n",
    "\n",
    "- Álvarez, C. (2020). Introducción al Jupyter Notebook y aplicaciones básicas. https://repository.unad.edu.co/handle/10596/35681\n",
    "\n",
    "- Thakur, A. (2016). Python: Real-World Data Science. Packt Publishing. https://bibliotecavirtual.unad.edu.co/login?url=https://search.ebscohost.com/login.aspx?direct=true&db=nlebk&AN=1250754&lang=es&site=ehost-live&ebv=EB&ppid=pp_199\n",
    "\n",
    "- NumPy. (s.f.). Numpy. Obtenido de https://numpy.org/doc/stable/reference/generated/numpy.linalg.lstsq.html.\n",
    "\n",
    "- Numpy. (s.f.). Numpy. Obtenido de https://numpy.org/doc/stable/reference/generated/numpy.linalg.solve.html.\n",
    "\n",
    "- NumPy. (s.f.). NumPy. Obtenido de https://numpy.org/doc/stable/reference/generated/numpy.linalg.norm.htm"
   ]
  }
 ],
 "metadata": {
  "colab": {
   "provenance": []
  },
  "kernelspec": {
   "display_name": "Python 3 (ipykernel)",
   "language": "python",
   "name": "python3"
  },
  "language_info": {
   "codemirror_mode": {
    "name": "ipython",
    "version": 3
   },
   "file_extension": ".py",
   "mimetype": "text/x-python",
   "name": "python",
   "nbconvert_exporter": "python",
   "pygments_lexer": "ipython3",
   "version": "3.11.4"
  }
 },
 "nbformat": 4,
 "nbformat_minor": 1
}
